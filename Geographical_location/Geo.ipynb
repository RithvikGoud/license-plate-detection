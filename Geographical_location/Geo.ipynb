{
 "cells": [
  {
   "cell_type": "code",
   "execution_count": null,
   "id": "6d52f22f-5e22-4555-9c0d-bb52593bd859",
   "metadata": {},
   "outputs": [
    {
     "name": "stdout",
     "output_type": "stream",
     "text": [
      "Latitude: 31.252099722222223, Longitude: 75.70538888888889\n"
     ]
    }
   ],
   "source": [
    "from PIL import Image\n",
    "from PIL.ExifTags import TAGS, GPSTAGS\n",
    "\n",
    "def get_exif_data(image):\n",
    "    exif_data = {}\n",
    "    try:\n",
    "        image = Image.open(image)\n",
    "        info = image._getexif()\n",
    "        if info is not None:\n",
    "            for tag, value in info.items():\n",
    "                tag_name = TAGS.get(tag, tag)\n",
    "                exif_data[tag_name] = value\n",
    "    except Exception as e:\n",
    "        print(f\"Error: {e}\")\n",
    "    return exif_data\n",
    "\n",
    "def get_geolocation(exif_data):\n",
    "    gps_info = exif_data.get(\"GPSInfo\", None)\n",
    "    if not gps_info:\n",
    "        return None\n",
    "\n",
    "    gps_data = {}\n",
    "    for tag, value in gps_info.items():\n",
    "        tag_name = GPSTAGS.get(tag, tag)\n",
    "        gps_data[tag_name] = value\n",
    "\n",
    "    try:\n",
    "        latitude = gps_data[\"GPSLatitude\"]\n",
    "        latitude_ref = gps_data[\"GPSLatitudeRef\"]\n",
    "        longitude = gps_data[\"GPSLongitude\"]\n",
    "        longitude_ref = gps_data[\"GPSLongitudeRef\"]\n",
    "\n",
    "        lat = convert_to_degrees(latitude)\n",
    "        if latitude_ref != \"N\":\n",
    "            lat = -lat\n",
    "\n",
    "        lon = convert_to_degrees(longitude)\n",
    "        if longitude_ref != \"E\":\n",
    "            lon = -lon\n",
    "\n",
    "        return lat, lon\n",
    "    except KeyError:\n",
    "        return None\n",
    "\n",
    "def convert_to_degrees(value):\n",
    "    d, m, s = value\n",
    "    return d + (m / 60.0) + (s / 3600.0)\n",
    "\n",
    "image_path = r\"Geo_Image_Path\"\n",
    "exif_data = get_exif_data(image_path)\n",
    "\n",
    "geolocation = get_geolocation(exif_data)\n",
    "\n",
    "if geolocation:\n",
    "    print(f\"Latitude: {geolocation[0]}, Longitude: {geolocation[1]}\")\n",
    "else:\n",
    "    print(\"No GPS data found.\")\n"
   ]
  },
  {
   "cell_type": "code",
   "execution_count": null,
   "id": "dd4e0f67-4020-4921-b4c6-83cbed7aa3ff",
   "metadata": {},
   "outputs": [],
   "source": []
  }
 ],
 "metadata": {
  "kernelspec": {
   "display_name": "Python 3",
   "language": "python",
   "name": "python3"
  },
  "language_info": {
   "codemirror_mode": {
    "name": "ipython",
    "version": 3
   },
   "file_extension": ".py",
   "mimetype": "text/x-python",
   "name": "python",
   "nbconvert_exporter": "python",
   "pygments_lexer": "ipython3",
   "version": "3.12.4"
  }
 },
 "nbformat": 4,
 "nbformat_minor": 5
}
